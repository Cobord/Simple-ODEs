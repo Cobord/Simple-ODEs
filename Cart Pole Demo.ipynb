{
 "cells": [
  {
   "cell_type": "code",
   "execution_count": 37,
   "metadata": {},
   "outputs": [
    {
     "name": "stdout",
     "output_type": "stream",
     "text": [
      "[0.01, 0.0, -2.0, -2.0]\n"
     ]
    },
    {
     "data": {
      "image/png": "[encoded data removed]",
      "text/plain": [
       "<matplotlib.figure.Figure at 0x20b85b86358>"
      ]
     },
     "metadata": {},
     "output_type": "display_data"
    },
    {
     "name": "stdout",
     "output_type": "stream",
     "text": [
      "0.908\n"
     ]
    },
    {
     "name": "stderr",
     "output_type": "stream",
     "text": [
      "C:\\Program Files (x86)\\Microsoft Visual Studio\\Shared\\Anaconda3_64\\lib\\site-packages\\ipykernel_launcher.py:27: RuntimeWarning: invalid value encountered in multiply\n",
      "C:\\Program Files (x86)\\Microsoft Visual Studio\\Shared\\Anaconda3_64\\lib\\site-packages\\scipy\\integrate\\odepack.py:218: ODEintWarning: Excess accuracy requested (tolerances too small). Run with full_output = 1 to get quantitative information.\n",
      "  warnings.warn(warning_msg, ODEintWarning)\n"
     ]
    },
    {
     "name": "stdout",
     "output_type": "stream",
     "text": [
      "Optimization terminated successfully.\n",
      "         Current function value: 0.000000\n",
      "         Iterations: 82\n",
      "         Function evaluations: 203\n",
      "[ -0.11873798  -0.11747164 -83.35508944 -71.14178119]\n"
     ]
    },
    {
     "data": {
      "image/png": "[encoded data removed]",
      "text/plain": [
       "<matplotlib.figure.Figure at 0x20b85df4320>"
      ]
     },
     "metadata": {},
     "output_type": "display_data"
    },
    {
     "name": "stdout",
     "output_type": "stream",
     "text": [
      "0.0\n"
     ]
    }
   ],
   "source": [
    "import numpy as np\n",
    "from scipy.integrate import odeint\n",
    "from scipy.optimize import minimize\n",
    "import matplotlib.pyplot as plt\n",
    "\n",
    "class CartPole:\n",
    "    def __init__(self,g,L,M):\n",
    "        self.g=g\n",
    "        self.L=L\n",
    "        self.M=M\n",
    "        self.A_matrix=np.array([[0,1,0,0],[0,0,0,0],[0,0,0,1],[0,0,self.g/self.L,0]])\n",
    "        self.b_vector=np.array([[0],[1/self.M],[0],[1/(self.M*self.L)]])\n",
    "        self.u_func=lambda t: 0\n",
    "        self.fedback=False\n",
    "        self.k_vec=[0,0,0,0]\n",
    "    def make_fedback(self,k_vec):\n",
    "        self.fedback=True\n",
    "        self.k_vec=k_vec\n",
    "    def derivative(self,q,t):\n",
    "        q_vec=np.array([[q[0]],[q[1]],[q[2]],[q[3]]])\n",
    "        part_one=np.matmul(self.A_matrix,q_vec)\n",
    "        u_value=0\n",
    "        if self.fedback:\n",
    "            u_value=np.dot(self.k_vec,q_vec)\n",
    "        else:\n",
    "            u_value=self.u_func(t)\n",
    "        part_two=self.b_vector*u_value\n",
    "        return_value=part_one+part_two\n",
    "        return np.ndarray.flatten(return_value)\n",
    "    def get_trajectory(self,ts,q0,u_func=None):\n",
    "        if not (u_func is None):\n",
    "            self.u_func=u_func\n",
    "        return odeint(self.derivative,q0,ts)\n",
    "    def score_this_feedback(self,q0,ts,k_trial,to_plot=False):\n",
    "        cp.make_fedback(k_trial)\n",
    "        result=cp.get_trajectory(ts,q0)\n",
    "        score=len(list(filter(lambda x: np.abs(x)>np.pi/4,result[:,2])))\n",
    "        if to_plot:\n",
    "            plt.plot(ts,result[:,2])\n",
    "            plt.show()\n",
    "        return (score+.0)/len(ts)\n",
    "        \n",
    "cp=CartPole(9.8,1,1)\n",
    "q0=[.1,.02,0,0]\n",
    "ts=np.linspace(0,50,1000)\n",
    "k0=[.01,.0,-2.0,-2.0]\n",
    "print(k0)\n",
    "print(cp.score_this_feedback(q0,ts,k0,True))\n",
    "to_optimize=lambda k: cp.score_this_feedback(q0,ts,k)\n",
    "res=minimize(to_optimize,k0,method='Nelder-Mead',tol=1e-3,options={'disp': True,'maxiter':200})\n",
    "print(res.x)\n",
    "print(cp.score_this_feedback(q0,ts,res.x,True))"
   ]
  },
  {
   "cell_type": "code",
   "execution_count": null,
   "metadata": {},
   "outputs": [],
   "source": []
  },
  {
   "cell_type": "code",
   "execution_count": null,
   "metadata": {},
   "outputs": [],
   "source": []
  }
 ],
 "metadata": {
  "kernelspec": {
   "display_name": "Python 3",
   "language": "python",
   "name": "python3"
  }
 },
 "nbformat": 4,
 "nbformat_minor": 2
}
